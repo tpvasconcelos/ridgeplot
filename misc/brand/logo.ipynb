{
 "cells": [
  {
   "cell_type": "markdown",
   "metadata": {
    "pycharm": {
     "name": "#%% md\n"
    }
   },
   "source": [
    "Inspired by seaborn's open logo:\n",
    "- https://github.com/mwaskom/seaborn/issues/2243\n",
    "- https://gist.github.com/mwaskom/7eb7d01d9aa25ea83894293027d12a8c\n",
    "- https://seaborn.pydata.org/citing.html"
   ]
  },
  {
   "cell_type": "code",
   "execution_count": null,
   "metadata": {
    "pycharm": {
     "name": "#%%\n"
    }
   },
   "outputs": [],
   "source": [
    "from __future__ import annotations"
   ]
  },
  {
   "cell_type": "code",
   "execution_count": null,
   "metadata": {},
   "outputs": [],
   "source": [
    "!uv pip install -r requirements.txt"
   ]
  },
  {
   "cell_type": "code",
   "execution_count": null,
   "metadata": {
    "pycharm": {
     "name": "#%%\n"
    }
   },
   "outputs": [],
   "source": [
    "from typing import TYPE_CHECKING, Union\n",
    "\n",
    "import matplotlib.pyplot as plt\n",
    "import numpy as np\n",
    "from matplotlib import patches\n",
    "from matplotlib.colors import LinearSegmentedColormap, ListedColormap\n",
    "from scipy.signal.windows import gaussian\n",
    "\n",
    "if TYPE_CHECKING:\n",
    "    from matplotlib.collections import PolyCollection\n",
    "    from matplotlib.image import AxesImage\n",
    "    from matplotlib.path import Path"
   ]
  },
  {
   "cell_type": "code",
   "execution_count": null,
   "metadata": {
    "pycharm": {
     "name": "#%%\n"
    }
   },
   "outputs": [],
   "source": [
    "ColorsRow = Union[str, list[str]]\n",
    "Colors = tuple[ColorsRow, ColorsRow, ColorsRow, ColorsRow]\n",
    "\n",
    "\n",
    "def logo(\n",
    "    ax: plt.Axes,\n",
    "    colors: Colors,\n",
    "    pdf_means: list[int],\n",
    "    pdf_sigma: float,\n",
    "    dy: float,\n",
    "    y0: float,\n",
    "    w: float,\n",
    "    h: float,\n",
    ") -> None:\n",
    "    # Square, invisible axes with specified limits to center the logo\n",
    "    xlim = (40, 90)\n",
    "    ylim = (0, 50)\n",
    "    ax.set(xlim=xlim, ylim=ylim)\n",
    "    ax.set_axis_off()\n",
    "    ax.set_aspect(\"equal\")\n",
    "\n",
    "    # Full x and y grids for a gaussian curve\n",
    "    x = np.arange(101)\n",
    "    y = gaussian(x.size, pdf_sigma)\n",
    "\n",
    "    x0 = 30  # Magic number\n",
    "    xx = x[x0:]\n",
    "\n",
    "    # Vertical distances between the PDF curves\n",
    "    n = len(pdf_means)\n",
    "    dys = np.linspace(0, (n - 1) * dy, n) - (n * dy / 2)\n",
    "    dys -= dys.mean()\n",
    "\n",
    "    # Compute the PDF curves with vertical offsets\n",
    "    pdfs = [h * (y[x0 - m : -m] + y0 + dy) for m, dy in zip(pdf_means, dys)]\n",
    "\n",
    "    # Add in constants to fill from bottom and to top\n",
    "    pdfs.insert(0, np.full(xx.shape, -h))\n",
    "    pdfs.append(np.full(xx.shape, 50 + h))\n",
    "\n",
    "    for i, pdf in enumerate(pdfs[1:]):\n",
    "        row_colors = colors[i]\n",
    "        if isinstance(row_colors, str):\n",
    "            cmap = ListedColormap([row_colors])\n",
    "        elif len(row_colors) == 1:\n",
    "            cmap = ListedColormap(row_colors)\n",
    "        elif len(row_colors) == 0:\n",
    "            raise ValueError(\"Empty row_colors\")\n",
    "        else:\n",
    "            cmap = LinearSegmentedColormap.from_list(\"Custom\", row_colors)\n",
    "\n",
    "        poly: PolyCollection = ax.fill_between(\n",
    "            xx,\n",
    "            pdfs[i] + w,\n",
    "            pdf,\n",
    "            color=\"none\",\n",
    "            alpha=1,\n",
    "            antialiased=True,\n",
    "            lw=0,\n",
    "        )\n",
    "        poly_path: Path = poly.get_paths()[0]\n",
    "        gradient: AxesImage = plt.imshow(\n",
    "            np.linspace(0, 1, 256).reshape((1, -1)),\n",
    "            cmap=cmap,\n",
    "            aspect=\"equal\",\n",
    "            extent=(*xlim, *ylim),\n",
    "        )\n",
    "        gradient.set_clip_path(poly_path, transform=ax.transData)\n",
    "\n",
    "    plt.subplots_adjust(left=0.0, right=1, top=1, bottom=0.0)"
   ]
  },
  {
   "cell_type": "code",
   "execution_count": null,
   "metadata": {},
   "outputs": [],
   "source": [
    "# COLORS: Dict[str, Colors] = {\n",
    "#     # plotly logo blues\n",
    "#     colors=[\n",
    "#         ([0.22, 0.50, 0.96], ),\n",
    "#         ([0.31, 0.62, 0.97], ),\n",
    "#         ([0.40, 0.73, 0.99], ),\n",
    "#         ([0.48, 0.85, 1.0], ),\n",
    "#     ],\n",
    "#     # plotly logo colors\n",
    "#     colors=[\n",
    "#         ([0.97, 0.24, 0.47], ),\n",
    "#         ([0.85, 0.47, 0.64], ),\n",
    "#         ([0.73, 0.65, 0.80], ),\n",
    "#         ([0.54, 0.86, 0.97], ),\n",
    "#     ],\n",
    "#     # my blues\n",
    "#     colors=[\n",
    "#         ([0.48, 0.85, 1.0], ),\n",
    "#         ([0.40, 0.73, 1.0], ),\n",
    "#         ([0.31, 0.62, 1.0], ),\n",
    "#         ([0.22, 0.50, 1.0], ),\n",
    "#     ][::-1],\n",
    "#     # colors=[\n",
    "#     #     # (\"#0072FF\", \"#00C6FF\"),\n",
    "#     #     # (\"#0072FF\", \"#00C6FF\"),\n",
    "#     #     # (\"#0072FF\", \"#00C6FF\"),\n",
    "#     #     # (\"#0072FF\", \"#00C6FF\"),\n",
    "#     #     # (\"#0072FF\", \"#00C6FF\"),\n",
    "#     #     #\n",
    "#     #     # (\"#9600FF\", \"#AEBAF8\"),\n",
    "#     #     # (\"#9600FF\", \"#AEBAF8\"),\n",
    "#     #     # (\"#9600FF\", \"#AEBAF8\"),\n",
    "#     #     # (\"#9600FF\", \"#AEBAF8\"),\n",
    "#     #     # (\"#9600FF\", \"#AEBAF8\"),\n",
    "#     #     #\n",
    "#     #     # (\"#04B0FD\", \"#00E1FA\"),\n",
    "#     #     # (\"#04B0FD\", \"#00E1FA\"),\n",
    "#     #     # (\"#04B0FD\", \"#00E1FA\"),\n",
    "#     #     # (\"#04B0FD\", \"#00E1FA\"),\n",
    "#     #     # (\"#04B0FD\", \"#00E1FA\"),\n",
    "#     #     #\n",
    "#     #     # (\"#FE5066\", \"#FFE136\"),\n",
    "#     #     # (\"#FE5066\", \"#FFE136\"),\n",
    "#     #     # (\"#FE5066\", \"#FFE136\"),\n",
    "#     #     # (\"#FE5066\", \"#FFE136\"),\n",
    "#     #     # (\"#FE5066\", \"#FFE136\"),\n",
    "#     #     # (\"#FE5066\", \"#FFE136\"),\n",
    "#     #     #\n",
    "#     #     # (\"#8145FD\", \"#FF3AA1\"),\n",
    "#     #     # (\"#8145FD\", \"#FF3AA1\"),\n",
    "#     #     # (\"#8145FD\", \"#FF3AA1\"),\n",
    "#     #     # (\"#8145FD\", \"#FF3AA1\"),\n",
    "#     #     # (\"#8145FD\", \"#FF3AA1\"),\n",
    "#     #     #\n",
    "#     #     ([0.2, 0.5, 1], [0.5, 0.9, 1]),\n",
    "#     #     ([0.2, 0.5, 1], [0.5, 0.9, 1]),\n",
    "#     #     ([0.2, 0.5, 1], [0.5, 0.9, 1]),\n",
    "#     #     ([0.2, 0.5, 1], [0.5, 0.9, 1]),\n",
    "#     #     ([0.2, 0.5, 1], [0.5, 0.9, 1]),\n",
    "#     # ][::-1],\n",
    "#     # pandas logo colors\n",
    "#     colors=[\n",
    "#         ([1.00, 0.79, 0.00], ),  # yellow\n",
    "#         ([0.91, 0.01, 0.53], ),  # magenta\n",
    "#         ([0.08, 0.03, 0.33], ),  # blue\n",
    "#         ([1.00, 1.00, 1.00], ),  # white\n",
    "#     ][::-1],\n",
    "#     # plotly default colors\n",
    "#     colors=[\n",
    "#         (\"#FFB782\", \"#FFA15A\", \"#FFA15A\", \"#FFA15A\", \"#FFBA88\"),  # ORANGE: \"#FFA15A\", \"#FFB782\", \"#FFBA88\"\n",
    "#         (\"#C28CFC\", \"#AB63FA\", \"#AB63FA\", \"#AB63FA\", \"#C693FD\"),  # PURPLE: \"#AB63FA\", \"#C28CFC\", \"#C693FD\"\n",
    "#         (\"#6ADAB2\", \"#00CC96\", \"#00CC96\", \"#00CC96\", \"#74DCB7\"),  # GREEN:  \"#00CC96\", \"#6ADAB2\", \"#74DCB7\"\n",
    "#         (\"#F4806C\", \"#EF553B\", \"#EF553B\", \"#EF553B\", \"#F58674\"),  # RED:    \"#EF553B\", \"#F4806C\", \"#F58674\"\n",
    "#         (\"#7D86FC\", \"#636EFA\", \"#636EFA\", \"#636EFA\", \"#818AFC\"),  # BLUE:   \"#636EFA\", \"#7D86FC\", \"#818AFC\"\n",
    "#     ][::-1],\n",
    "# }"
   ]
  },
  {
   "cell_type": "code",
   "execution_count": null,
   "metadata": {},
   "outputs": [],
   "source": [
    "COLORS: dict[str, Colors] = {\n",
    "    # https://plotly.com/python/discrete-color/#color-sequences-in-plotly-express\n",
    "    \"plotly-plotly\": (\"#ab63fa\", \"#00cc96\", \"#EF553B\", \"#636efa\"),\n",
    "    \"plotly-reversed\": (\"#636efa\", \"#EF553B\", \"#00cc96\", \"#ab63fa\"),\n",
    "    \"plotly-custom-order\": (\"#636efa\", \"#EF553B\", \"#ab63fa\", \"#00cc96\"),\n",
    "    \"plotly-plotly-grad\": (\n",
    "        [\n",
    "            \"#FFB782\",\n",
    "            \"#FFA15A\",\n",
    "            \"#FFA15A\",\n",
    "            \"#FFA15A\",\n",
    "            \"#FFBA88\",\n",
    "        ],  # ORANGE: \"#FFA15A\", \"#FFB782\", \"#FFBA88\"\n",
    "        [\n",
    "            \"#C28CFC\",\n",
    "            \"#AB63FA\",\n",
    "            \"#AB63FA\",\n",
    "            \"#AB63FA\",\n",
    "            \"#C693FD\",\n",
    "        ],  # PURPLE: \"#AB63FA\", \"#C28CFC\", \"#C693FD\"\n",
    "        [\n",
    "            \"#6ADAB2\",\n",
    "            \"#00CC96\",\n",
    "            \"#00CC96\",\n",
    "            \"#00CC96\",\n",
    "            \"#74DCB7\",\n",
    "        ],  # GREEN:  \"#00CC96\", \"#6ADAB2\", \"#74DCB7\"\n",
    "        [\n",
    "            \"#F4806C\",\n",
    "            \"#EF553B\",\n",
    "            \"#EF553B\",\n",
    "            \"#EF553B\",\n",
    "            \"#F58674\",\n",
    "        ],  # RED:    \"#EF553B\", \"#F4806C\", \"#F58674\"\n",
    "        [\n",
    "            \"#7D86FC\",\n",
    "            \"#636EFA\",\n",
    "            \"#636EFA\",\n",
    "            \"#636EFA\",\n",
    "            \"#818AFC\",\n",
    "        ],  # BLUE:   \"#636EFA\", \"#7D86FC\", \"#818AFC\"\n",
    "    )[::-1],\n",
    "    \"plotly-pastel\": (\"#66C5CC\", \"#F89C74\", \"#87C55F\", \"#DCB0F2\", \"#F6CF71\"),\n",
    "}"
   ]
  },
  {
   "cell_type": "code",
   "execution_count": null,
   "metadata": {
    "pycharm": {
     "name": "#%%\n"
    }
   },
   "outputs": [],
   "source": [
    "plt.rcParams[\"figure.dpi\"] = 150\n",
    "\n",
    "bg_color = [1, 1, 1, 0]\n",
    "# bg_color = [1, 1, 1, 1]\n",
    "# bg_color = \"#34363C\"\n",
    "\n",
    "\n",
    "fig, ax = plt.subplots(figsize=(2, 2), facecolor=bg_color)\n",
    "\n",
    "logo(\n",
    "    ax,\n",
    "    colors=COLORS[\"plotly-reversed\"],\n",
    "    pdf_means=[12, 18, 13],\n",
    "    pdf_sigma=10,\n",
    "    dy=1.08,\n",
    "    y0=1.28,\n",
    "    w=2.2,\n",
    "    h=12,\n",
    ")\n",
    "\n",
    "fig.savefig(\"logo-square.png\", dpi=300)\n",
    "plt.show()"
   ]
  },
  {
   "cell_type": "code",
   "execution_count": null,
   "metadata": {
    "pycharm": {
     "name": "#%%\n"
    }
   },
   "outputs": [],
   "source": [
    "image = plt.imread(\"logo-square.png\")\n",
    "\n",
    "fig, ax = plt.subplots(figsize=(2, 2), facecolor=bg_color)\n",
    "im = ax.imshow(image)\n",
    "im.set_clip_path(patches.Circle((300, 300), radius=300, transform=ax.transData))\n",
    "\n",
    "ax.set(xlim=(0, 600), ylim=(0, 600))\n",
    "ax.set_axis_off()\n",
    "ax.set_aspect(\"equal\")\n",
    "ax.invert_yaxis()\n",
    "\n",
    "plt.subplots_adjust(left=0.0, right=1, top=1, bottom=0.0)\n",
    "\n",
    "fig.savefig(\"logo-round.png\", facecolor=bg_color, dpi=300)\n",
    "fig.savefig(\"logo-round-light-bg.png\", facecolor=[1, 1, 1], dpi=300)\n",
    "fig.savefig(\"logo-round-dark-bg.png\", facecolor=[0.1, 0.1, 0.1], dpi=300)\n",
    "\n",
    "plt.show()"
   ]
  },
  {
   "cell_type": "code",
   "execution_count": null,
   "metadata": {
    "pycharm": {
     "name": "#%%\n"
    }
   },
   "outputs": [],
   "source": [
    "image = plt.imread(\"logo-round-light-bg.png\")\n",
    "fig, ax = plt.subplots(figsize=(3, 3), facecolor=[1, 1, 1])\n",
    "im = ax.imshow(image)\n",
    "plt.axis(\"off\")\n",
    "# plt.subplots_adjust(left=0., right=1, top=1, bottom=0.)\n",
    "plt.show()"
   ]
  },
  {
   "cell_type": "code",
   "execution_count": null,
   "metadata": {},
   "outputs": [],
   "source": [
    "image = plt.imread(\"logo-round-dark-bg.png\")\n",
    "fig, ax = plt.subplots(figsize=(3, 3), facecolor=[0.1, 0.1, 0.1])\n",
    "im = ax.imshow(image)\n",
    "plt.axis(\"off\")\n",
    "# plt.subplots_adjust(left=0., right=1, top=1, bottom=0.)\n",
    "plt.show()"
   ]
  },
  {
   "cell_type": "code",
   "execution_count": null,
   "metadata": {},
   "outputs": [],
   "source": []
  }
 ],
 "metadata": {
  "kernelspec": {
   "display_name": "ridgeplot",
   "language": "python",
   "name": "ridgeplot"
  },
  "language_info": {
   "codemirror_mode": {
    "name": "ipython",
    "version": 2
   },
   "file_extension": ".py",
   "mimetype": "text/x-python",
   "name": "python",
   "nbconvert_exporter": "python",
   "pygments_lexer": "ipython2",
   "version": "2.7.6"
  }
 },
 "nbformat": 4,
 "nbformat_minor": 0
}
