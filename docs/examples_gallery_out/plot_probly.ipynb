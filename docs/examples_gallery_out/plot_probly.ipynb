{
 "cells": [
  {
   "cell_type": "markdown",
   "metadata": {},
   "source": [
    "\n# probly dataset\n\nIn this example, we will be replicating the first ridgeline plot example in\n[this _from Data to Viz_ post](https://www.data-to-viz.com/graph/ridgeline.html)\n, which uses the _probly_ dataset. You can find the _plobly_ dataset on\nmultiple sources like in the\n[bokeh](https://raw.githubusercontent.com/bokeh/bokeh/main/bokeh/sampledata/_data/probly.csv)\npython interactive visualization library. I'll be using the\n[same source](https://raw.githubusercontent.com/zonination/perceptions/master/probly.csv)\nused in the original post.\n"
   ]
  },
  {
   "cell_type": "code",
   "execution_count": null,
   "metadata": {
    "collapsed": false
   },
   "outputs": [],
   "source": [
    "from __future__ import annotations\n\nimport numpy as np\nimport plotly.io as pio\n\nfrom ridgeplot import ridgeplot\nfrom ridgeplot.datasets import load_probly\n\n# Load the probly dataset\ndf = load_probly()"
   ]
  },
  {
   "cell_type": "markdown",
   "metadata": {},
   "source": [
    "Let's grab only the subset of columns displayed in the example\n\n"
   ]
  },
  {
   "cell_type": "code",
   "execution_count": null,
   "metadata": {
    "collapsed": false
   },
   "outputs": [],
   "source": [
    "column_names = [\n    \"Almost Certainly\",\n    \"Very Good Chance\",\n    \"We Believe\",\n    \"Likely\",\n    \"About Even\",\n    \"Little Chance\",\n    \"Chances Are Slight\",\n    \"Almost No Chance\",\n]\ndf = df[column_names]"
   ]
  },
  {
   "cell_type": "markdown",
   "metadata": {},
   "source": [
    "Not only does 'ridgeplot(...)' come configured with sensible defaults\nbut is also fully configurable to your own style and preference!\n\n"
   ]
  },
  {
   "cell_type": "code",
   "execution_count": null,
   "metadata": {
    "collapsed": false
   },
   "outputs": [],
   "source": [
    "fig = ridgeplot(\n    # Get your samples in the correct format\n    samples=df.to_numpy().T,\n    # We can specify the bandwidth used for KDE\n    bandwidth=4,\n    # and the range of points for which the KDE is evaluated\n    kde_points=np.linspace(-12.5, 112.5, 400),\n    # You can pass any plotly color scale here\n    colorscale=\"viridis\",\n    # In the example, the distributions seem to be colored\n    # by 'index'. Have a look at the other available options!\n    colormode=\"index\",\n    # Set the transparency level\n    coloralpha=0.6,\n    # Always label your plots! Don't be evil...\n    labels=column_names,\n    # Adjust the vertical spacing between the distributions\n    spacing=5 / 9,\n)"
   ]
  },
  {
   "cell_type": "markdown",
   "metadata": {},
   "source": [
    "Again, update the figure layout to your liking here\n\n"
   ]
  },
  {
   "cell_type": "code",
   "execution_count": null,
   "metadata": {
    "collapsed": false
   },
   "outputs": [],
   "source": [
    "fig.update_layout(\n    title=\"What probability would you assign to the phrase <i>“Highly likely”</i>?\",\n    height=650,\n    width=800,\n    plot_bgcolor=\"rgba(255, 255, 255, 0.0)\",\n    xaxis_gridcolor=\"rgba(0, 0, 0, 0.1)\",\n    yaxis_gridcolor=\"rgba(0, 0, 0, 0.1)\",\n    yaxis_title=\"Assigned Probability (%)\",\n)\n\n# Or, simply: fig.show()\npio.show(fig)"
   ]
  }
 ],
 "metadata": {
  "kernelspec": {
   "display_name": "Python 3",
   "language": "python",
   "name": "python3"
  },
  "language_info": {
   "codemirror_mode": {
    "name": "ipython",
    "version": 3
   },
   "file_extension": ".py",
   "mimetype": "text/x-python",
   "name": "python",
   "nbconvert_exporter": "python",
   "pygments_lexer": "ipython3",
   "version": "3.9.20"
  }
 },
 "nbformat": 4,
 "nbformat_minor": 0
}
